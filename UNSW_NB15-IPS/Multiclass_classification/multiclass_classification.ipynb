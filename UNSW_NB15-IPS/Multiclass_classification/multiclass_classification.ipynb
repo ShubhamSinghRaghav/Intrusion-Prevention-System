{
 "cells": [
  {
   "cell_type": "code",
   "execution_count": 1,
   "metadata": {},
   "outputs": [],
   "source": [
    "import numpy as np\n",
    "import pandas as pd\n",
    "import matplotlib.pyplot as plt\n",
    "from sklearn.kernel_approximation import RBFSampler\n",
    "from sklearn.model_selection import cross_val_score\n",
    "from sklearn.linear_model import SGDClassifier\n",
    "from sklearn.model_selection import train_test_split\n",
    "from sklearn import svm\n",
    "from sklearn.metrics import classification_report\n",
    "from sklearn import metrics\n",
    "from sklearn.linear_model import LogisticRegression , LinearRegression\n",
    "from sklearn.naive_bayes import GaussianNB\n",
    "from sklearn.neighbors import KNeighborsClassifier\n",
    "from sklearn.tree import DecisionTreeClassifier\n",
    "from sklearn.metrics import (precision_score, recall_score,f1_score, accuracy_score,mean_squared_error,mean_absolute_error)\n",
    "from sklearn.ensemble import AdaBoostClassifier\n",
    "from sklearn.ensemble import RandomForestClassifier\n",
    "from sklearn.preprocessing import Normalizer\n",
    "from sklearn.model_selection import GridSearchCV\n",
    "from sklearn.svm import SVC\n",
    "from sklearn.preprocessing import LabelEncoder\n",
    "from sklearn.preprocessing import MinMaxScaler\n",
    "from sklearn.metrics import confusion_matrix , explained_variance_score\n",
    "from sklearn.metrics import (precision_score, recall_score,f1_score, accuracy_score,mean_squared_error,mean_absolute_error, roc_curve, classification_report,auc)\n",
    "import warnings\n",
    "warnings.filterwarnings(\"ignore\")\n",
    "import timeit"
   ]
  },
  {
   "cell_type": "code",
   "execution_count": 2,
   "metadata": {},
   "outputs": [],
   "source": [
    "multiclass_data = pd.read_csv('multiclass_data.csv')"
   ]
  },
  {
   "cell_type": "code",
   "execution_count": 3,
   "metadata": {},
   "outputs": [],
   "source": [
    "multiclass_data = multiclass_data.iloc[:,1:]"
   ]
  },
  {
   "cell_type": "code",
   "execution_count": 4,
   "metadata": {},
   "outputs": [],
   "source": [
    "X = multiclass_data.drop(columns=['label'],axis=1)\n",
    "Y = multiclass_data['label']"
   ]
  },
  {
   "cell_type": "code",
   "execution_count": 5,
   "metadata": {},
   "outputs": [],
   "source": [
    "X_train,X_test,y_train,y_test = train_test_split(X,Y,test_size=0.30, random_state=5)"
   ]
  },
  {
   "cell_type": "code",
   "execution_count": 6,
   "metadata": {},
   "outputs": [],
   "source": [
    "#Report Generator\n",
    "def show_report(model):\n",
    "    start = timeit.default_timer()\n",
    "    y_pred = model.predict(X_test)\n",
    "    stop = timeit.default_timer()\n",
    "    print(\"Execution time(s) - \", stop - start)\n",
    "    print(\"Mean Absolute Error - \" , mean_absolute_error(y_test, y_pred))\n",
    "    print(\"Mean Squared Error - \" , mean_squared_error(y_test, y_pred))\n",
    "    print(\"Root Mean Squared Error - \" , np.sqrt(mean_squared_error(y_test, y_pred)))\n",
    "    print(\"R2 Score - \" , explained_variance_score(y_test, y_pred)*100)\n",
    "    print(\"Accuracy - \",accuracy_score(y_test,y_pred)*100)\n",
    "    print(classification_report(y_true=y_test, y_pred=y_pred,target_names=['Analysis', 'Backdoor', 'DoS', 'Exploits', 'Fuzzers', 'Generic',\n",
    "       'Normal', 'Reconnaissance', 'Worms']))"
   ]
  },
  {
   "cell_type": "code",
   "execution_count": 7,
   "metadata": {},
   "outputs": [],
   "source": [
    "#LR"
   ]
  },
  {
   "cell_type": "code",
   "execution_count": 8,
   "metadata": {},
   "outputs": [
    {
     "name": "stdout",
     "output_type": "stream",
     "text": [
      "Execution time(s) -  0.007631199999998728\n",
      "Mean Absolute Error -  0.06056997371879107\n",
      "Mean Squared Error -  0.17678219448094612\n",
      "Root Mean Squared Error -  0.4204547472451062\n",
      "R2 Score -  88.24969877135436\n",
      "Accuracy -  97.4909658344284\n",
      "                precision    recall  f1-score   support\n",
      "\n",
      "      Analysis       1.00      1.00      1.00       173\n",
      "      Backdoor       0.00      0.00      0.00        25\n",
      "           DoS       1.00      1.00      1.00       559\n",
      "      Exploits       1.00      1.00      1.00      4836\n",
      "       Fuzzers       0.56      0.42      0.48       507\n",
      "       Generic       0.99      0.99      0.99     11772\n",
      "        Normal       1.00      1.00      1.00      5925\n",
      "Reconnaissance       0.55      0.74      0.63       523\n",
      "         Worms       0.00      0.00      0.00        32\n",
      "\n",
      "      accuracy                           0.97     24352\n",
      "     macro avg       0.68      0.68      0.68     24352\n",
      "  weighted avg       0.97      0.97      0.97     24352\n",
      "\n"
     ]
    }
   ],
   "source": [
    "lr = LogisticRegression(solver='newton-cg',multi_class='multinomial')\n",
    "lr.fit(X_train,y_train)\n",
    "show_report(lr)"
   ]
  },
  {
   "cell_type": "code",
   "execution_count": 18,
   "metadata": {},
   "outputs": [],
   "source": [
    "#NB"
   ]
  },
  {
   "cell_type": "code",
   "execution_count": 9,
   "metadata": {},
   "outputs": [
    {
     "name": "stdout",
     "output_type": "stream",
     "text": [
      "Execution time(s) -  0.04636510000000271\n",
      "Mean Absolute Error -  0.207703679369251\n",
      "Mean Squared Error -  1.0353153745072274\n",
      "Root Mean Squared Error -  1.017504483777456\n",
      "R2 Score -  33.6524584266362\n",
      "Accuracy -  95.1256570302234\n",
      "                precision    recall  f1-score   support\n",
      "\n",
      "      Analysis       1.00      1.00      1.00       173\n",
      "      Backdoor       0.02      1.00      0.05        25\n",
      "           DoS       1.00      1.00      1.00       559\n",
      "      Exploits       1.00      1.00      1.00      4836\n",
      "       Fuzzers       0.00      0.00      0.00       507\n",
      "       Generic       0.99      0.99      0.99     11772\n",
      "        Normal       1.00      1.00      1.00      5925\n",
      "Reconnaissance       0.00      0.00      0.00       523\n",
      "         Worms       0.00      0.00      0.00        32\n",
      "\n",
      "      accuracy                           0.95     24352\n",
      "     macro avg       0.56      0.67      0.56     24352\n",
      "  weighted avg       0.95      0.95      0.95     24352\n",
      "\n"
     ]
    }
   ],
   "source": [
    "gnb = GaussianNB()\n",
    "gnb.fit(X_train,y_train)\n",
    "show_report(gnb)"
   ]
  },
  {
   "cell_type": "code",
   "execution_count": 20,
   "metadata": {},
   "outputs": [],
   "source": [
    "#knn"
   ]
  },
  {
   "cell_type": "code",
   "execution_count": 10,
   "metadata": {},
   "outputs": [
    {
     "name": "stdout",
     "output_type": "stream",
     "text": [
      "Execution time(s) -  17.207400699999994\n",
      "Mean Absolute Error -  0.06496386333771353\n",
      "Mean Squared Error -  0.18708935611038108\n",
      "Root Mean Squared Error -  0.43253827126669503\n",
      "R2 Score -  87.53778656771914\n",
      "Accuracy -  97.28564388961892\n",
      "                precision    recall  f1-score   support\n",
      "\n",
      "      Analysis       1.00      1.00      1.00       173\n",
      "      Backdoor       0.00      0.00      0.00        25\n",
      "           DoS       1.00      1.00      1.00       559\n",
      "      Exploits       1.00      1.00      1.00      4836\n",
      "       Fuzzers       0.49      0.53      0.51       507\n",
      "       Generic       0.99      0.99      0.99     11772\n",
      "        Normal       1.00      1.00      1.00      5925\n",
      "Reconnaissance       0.57      0.54      0.55       523\n",
      "         Worms       0.00      0.00      0.00        32\n",
      "\n",
      "      accuracy                           0.97     24352\n",
      "     macro avg       0.67      0.67      0.67     24352\n",
      "  weighted avg       0.97      0.97      0.97     24352\n",
      "\n"
     ]
    }
   ],
   "source": [
    "knn=KNeighborsClassifier()\n",
    "knn.fit(X_train,y_train)\n",
    "show_report(knn)"
   ]
  },
  {
   "cell_type": "code",
   "execution_count": 22,
   "metadata": {},
   "outputs": [],
   "source": [
    "#dt"
   ]
  },
  {
   "cell_type": "code",
   "execution_count": 11,
   "metadata": {},
   "outputs": [
    {
     "name": "stdout",
     "output_type": "stream",
     "text": [
      "Execution time(s) -  0.0066105999999876985\n",
      "Mean Absolute Error -  0.07067181340341656\n",
      "Mean Squared Error -  0.21324737187910645\n",
      "Root Mean Squared Error -  0.4617871499718311\n",
      "R2 Score -  85.79351024901788\n",
      "Accuracy -  97.0310446780552\n",
      "                precision    recall  f1-score   support\n",
      "\n",
      "      Analysis       1.00      1.00      1.00       173\n",
      "      Backdoor       0.03      0.04      0.04        25\n",
      "           DoS       1.00      1.00      1.00       559\n",
      "      Exploits       1.00      1.00      1.00      4836\n",
      "       Fuzzers       0.49      0.38      0.43       507\n",
      "       Generic       0.98      0.99      0.99     11772\n",
      "        Normal       1.00      1.00      1.00      5925\n",
      "Reconnaissance       0.55      0.52      0.54       523\n",
      "         Worms       0.12      0.16      0.13        32\n",
      "\n",
      "      accuracy                           0.97     24352\n",
      "     macro avg       0.69      0.68      0.68     24352\n",
      "  weighted avg       0.97      0.97      0.97     24352\n",
      "\n"
     ]
    }
   ],
   "source": [
    "dt = DecisionTreeClassifier(criterion='entropy')\n",
    "dt.fit(X_train,y_train)\n",
    "show_report(dt)"
   ]
  },
  {
   "cell_type": "code",
   "execution_count": 24,
   "metadata": {},
   "outputs": [],
   "source": [
    "#RF"
   ]
  },
  {
   "cell_type": "code",
   "execution_count": 12,
   "metadata": {},
   "outputs": [
    {
     "name": "stdout",
     "output_type": "stream",
     "text": [
      "Execution time(s) -  0.07719139999998959\n",
      "Mean Absolute Error -  0.06451215505913271\n",
      "Mean Squared Error -  0.18598061760840998\n",
      "Root Mean Squared Error -  0.4312547015493396\n",
      "R2 Score -  87.6099932078266\n",
      "Accuracy -  97.26511169513797\n",
      "                precision    recall  f1-score   support\n",
      "\n",
      "      Analysis       1.00      1.00      1.00       173\n",
      "      Backdoor       0.00      0.00      0.00        25\n",
      "           DoS       1.00      1.00      1.00       559\n",
      "      Exploits       1.00      1.00      1.00      4836\n",
      "       Fuzzers       0.49      0.46      0.48       507\n",
      "       Generic       0.99      0.99      0.99     11772\n",
      "        Normal       1.00      1.00      1.00      5925\n",
      "Reconnaissance       0.57      0.59      0.58       523\n",
      "         Worms       0.21      0.09      0.13        32\n",
      "\n",
      "      accuracy                           0.97     24352\n",
      "     macro avg       0.70      0.68      0.69     24352\n",
      "  weighted avg       0.97      0.97      0.97     24352\n",
      "\n"
     ]
    }
   ],
   "source": [
    "rf = RandomForestClassifier(n_estimators=20,criterion='entropy')\n",
    "rf.fit(X_train,y_train)\n",
    "show_report(rf)"
   ]
  },
  {
   "cell_type": "code",
   "execution_count": 26,
   "metadata": {},
   "outputs": [
    {
     "data": {
      "text/plain": [
       "0.9724925618570263"
      ]
     },
     "execution_count": 26,
     "metadata": {},
     "output_type": "execute_result"
    }
   ],
   "source": [
    "cross_val_score(RandomForestClassifier(n_estimators=20,criterion='entropy'),X_train,y_train,cv=5).mean()"
   ]
  },
  {
   "cell_type": "code",
   "execution_count": 27,
   "metadata": {},
   "outputs": [],
   "source": [
    "#AdaBoost"
   ]
  },
  {
   "cell_type": "code",
   "execution_count": 13,
   "metadata": {},
   "outputs": [
    {
     "name": "stdout",
     "output_type": "stream",
     "text": [
      "Execution time(s) -  0.2290405999999905\n",
      "Mean Absolute Error -  0.6665982260183968\n",
      "Mean Squared Error -  1.9087959921156372\n",
      "Root Mean Squared Error -  1.3815918326754966\n",
      "R2 Score -  -1.8940616563722479\n",
      "Accuracy -  75.14783180026281\n",
      "                precision    recall  f1-score   support\n",
      "\n",
      "      Analysis       1.00      1.00      1.00       173\n",
      "      Backdoor       0.00      0.00      0.00        25\n",
      "           DoS       1.00      1.00      1.00       559\n",
      "      Exploits       0.00      0.00      0.00      4836\n",
      "       Fuzzers       0.00      0.00      0.00       507\n",
      "       Generic       0.98      0.99      0.99     11772\n",
      "        Normal       0.50      1.00      0.67      5925\n",
      "Reconnaissance       0.00      0.00      0.00       523\n",
      "         Worms       0.00      0.00      0.00        32\n",
      "\n",
      "      accuracy                           0.75     24352\n",
      "     macro avg       0.39      0.44      0.41     24352\n",
      "  weighted avg       0.63      0.75      0.67     24352\n",
      "\n"
     ]
    }
   ],
   "source": [
    "abt = AdaBoostClassifier(n_estimators=20)\n",
    "abt.fit(X_train,y_train)\n",
    "show_report(abt)"
   ]
  },
  {
   "cell_type": "code",
   "execution_count": 29,
   "metadata": {},
   "outputs": [],
   "source": [
    "#SVM"
   ]
  },
  {
   "cell_type": "code",
   "execution_count": 14,
   "metadata": {},
   "outputs": [
    {
     "name": "stdout",
     "output_type": "stream",
     "text": [
      "Execution time(s) -  1.2624818000000033\n",
      "Mean Absolute Error -  0.06056997371879107\n",
      "Mean Squared Error -  0.17694645203679368\n",
      "Root Mean Squared Error -  0.42065003510851356\n",
      "R2 Score -  88.22149417775609\n",
      "Accuracy -  97.50328515111694\n",
      "                precision    recall  f1-score   support\n",
      "\n",
      "      Analysis       1.00      1.00      1.00       173\n",
      "      Backdoor       0.00      0.00      0.00        25\n",
      "           DoS       1.00      1.00      1.00       559\n",
      "      Exploits       1.00      1.00      1.00      4836\n",
      "       Fuzzers       0.53      0.48      0.50       507\n",
      "       Generic       0.99      0.99      0.99     11772\n",
      "        Normal       1.00      1.00      1.00      5925\n",
      "Reconnaissance       0.56      0.69      0.62       523\n",
      "         Worms       0.00      0.00      0.00        32\n",
      "\n",
      "      accuracy                           0.98     24352\n",
      "     macro avg       0.68      0.68      0.68     24352\n",
      "  weighted avg       0.97      0.98      0.97     24352\n",
      "\n"
     ]
    }
   ],
   "source": [
    "svm_lr = SVC(kernel='linear') \n",
    "svm_lr.fit(X_train,y_train)\n",
    "show_report(svm_lr)"
   ]
  },
  {
   "cell_type": "code",
   "execution_count": 15,
   "metadata": {},
   "outputs": [
    {
     "name": "stdout",
     "output_type": "stream",
     "text": [
      "Execution time(s) -  2.1447569999999985\n",
      "Mean Absolute Error -  0.059707621550591325\n",
      "Mean Squared Error -  0.17435939553219448\n",
      "Root Mean Squared Error -  0.41756364249320665\n",
      "R2 Score -  88.3948823932393\n",
      "Accuracy -  97.53203022339028\n",
      "                precision    recall  f1-score   support\n",
      "\n",
      "      Analysis       1.00      1.00      1.00       173\n",
      "      Backdoor       0.00      0.00      0.00        25\n",
      "           DoS       1.00      1.00      1.00       559\n",
      "      Exploits       1.00      1.00      1.00      4836\n",
      "       Fuzzers       0.54      0.48      0.51       507\n",
      "       Generic       0.99      0.99      0.99     11772\n",
      "        Normal       1.00      1.00      1.00      5925\n",
      "Reconnaissance       0.57      0.70      0.63       523\n",
      "         Worms       0.00      0.00      0.00        32\n",
      "\n",
      "      accuracy                           0.98     24352\n",
      "     macro avg       0.68      0.69      0.68     24352\n",
      "  weighted avg       0.97      0.98      0.97     24352\n",
      "\n"
     ]
    }
   ],
   "source": [
    "svm_rbf = svm.SVC(kernel='rbf')\n",
    "svm_rbf.fit(X_train,y_train)\n",
    "show_report(svm_rbf)"
   ]
  },
  {
   "cell_type": "code",
   "execution_count": 16,
   "metadata": {},
   "outputs": [
    {
     "name": "stdout",
     "output_type": "stream",
     "text": [
      "Execution time(s) -  2.6421445000000006\n",
      "Mean Absolute Error -  0.07280716162943496\n",
      "Mean Squared Error -  0.21464356110381078\n",
      "Root Mean Squared Error -  0.46329640739359373\n",
      "R2 Score -  86.00104436176248\n",
      "Accuracy -  97.11317345597898\n",
      "                precision    recall  f1-score   support\n",
      "\n",
      "      Analysis       1.00      1.00      1.00       173\n",
      "      Backdoor       0.00      0.00      0.00        25\n",
      "           DoS       1.00      1.00      1.00       559\n",
      "      Exploits       1.00      1.00      1.00      4836\n",
      "       Fuzzers       0.00      0.00      0.00       507\n",
      "       Generic       0.99      0.99      0.99     11772\n",
      "        Normal       1.00      1.00      1.00      5925\n",
      "Reconnaissance       0.47      0.97      0.63       523\n",
      "         Worms       0.00      0.00      0.00        32\n",
      "\n",
      "      accuracy                           0.97     24352\n",
      "     macro avg       0.61      0.66      0.62     24352\n",
      "  weighted avg       0.96      0.97      0.96     24352\n",
      "\n"
     ]
    }
   ],
   "source": [
    "svm_sg = svm.SVC(kernel='sigmoid')\n",
    "svm_sg.fit(X_train,y_train)\n",
    "show_report(svm_sg)"
   ]
  },
  {
   "cell_type": "code",
   "execution_count": null,
   "metadata": {},
   "outputs": [],
   "source": []
  }
 ],
 "metadata": {
  "kernelspec": {
   "display_name": "Python 3",
   "language": "python",
   "name": "python3"
  },
  "language_info": {
   "codemirror_mode": {
    "name": "ipython",
    "version": 3
   },
   "file_extension": ".py",
   "mimetype": "text/x-python",
   "name": "python",
   "nbconvert_exporter": "python",
   "pygments_lexer": "ipython3",
   "version": "3.8.5"
  }
 },
 "nbformat": 4,
 "nbformat_minor": 4
}
