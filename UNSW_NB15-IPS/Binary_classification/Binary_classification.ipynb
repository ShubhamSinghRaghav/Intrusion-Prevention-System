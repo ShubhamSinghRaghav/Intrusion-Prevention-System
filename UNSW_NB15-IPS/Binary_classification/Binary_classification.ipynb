{
 "cells": [
  {
   "cell_type": "code",
   "execution_count": 1,
   "metadata": {},
   "outputs": [],
   "source": [
    "import numpy as np\n",
    "import pandas as pd\n",
    "import matplotlib.pyplot as plt\n",
    "from sklearn.kernel_approximation import RBFSampler\n",
    "from sklearn.model_selection import cross_val_score\n",
    "from sklearn.linear_model import SGDClassifier\n",
    "from sklearn.model_selection import train_test_split\n",
    "from sklearn import svm\n",
    "from sklearn.metrics import classification_report\n",
    "from sklearn import metrics\n",
    "from sklearn.linear_model import LogisticRegression , LinearRegression\n",
    "from sklearn.naive_bayes import GaussianNB\n",
    "from sklearn.neighbors import KNeighborsClassifier\n",
    "from sklearn.tree import DecisionTreeClassifier\n",
    "from sklearn.metrics import (precision_score, recall_score,f1_score, accuracy_score,mean_squared_error,mean_absolute_error)\n",
    "from sklearn.ensemble import AdaBoostClassifier\n",
    "from sklearn.ensemble import RandomForestClassifier\n",
    "from sklearn.preprocessing import Normalizer\n",
    "from sklearn.model_selection import GridSearchCV\n",
    "from sklearn.svm import SVC\n",
    "from sklearn.preprocessing import LabelEncoder\n",
    "from sklearn.preprocessing import MinMaxScaler\n",
    "from sklearn.metrics import confusion_matrix , explained_variance_score\n",
    "from sklearn.metrics import (precision_score, recall_score,f1_score, accuracy_score,mean_squared_error,mean_absolute_error, roc_curve, classification_report,auc)\n",
    "import warnings\n",
    "warnings.filterwarnings(\"ignore\")\n",
    "import timeit"
   ]
  },
  {
   "cell_type": "code",
   "execution_count": 2,
   "metadata": {},
   "outputs": [],
   "source": [
    "binary_data = pd.read_csv('binary_data.csv')"
   ]
  },
  {
   "cell_type": "code",
   "execution_count": 3,
   "metadata": {},
   "outputs": [],
   "source": [
    "binary_data = binary_data.iloc[:,1:]"
   ]
  },
  {
   "cell_type": "code",
   "execution_count": 4,
   "metadata": {},
   "outputs": [
    {
     "data": {
      "text/html": [
       "<div>\n",
       "<style scoped>\n",
       "    .dataframe tbody tr th:only-of-type {\n",
       "        vertical-align: middle;\n",
       "    }\n",
       "\n",
       "    .dataframe tbody tr th {\n",
       "        vertical-align: top;\n",
       "    }\n",
       "\n",
       "    .dataframe thead th {\n",
       "        text-align: right;\n",
       "    }\n",
       "</style>\n",
       "<table border=\"1\" class=\"dataframe\">\n",
       "  <thead>\n",
       "    <tr style=\"text-align: right;\">\n",
       "      <th></th>\n",
       "      <th>rate</th>\n",
       "      <th>sttl</th>\n",
       "      <th>sload</th>\n",
       "      <th>dload</th>\n",
       "      <th>ct_srv_src</th>\n",
       "      <th>ct_state_ttl</th>\n",
       "      <th>ct_dst_ltm</th>\n",
       "      <th>ct_src_dport_ltm</th>\n",
       "      <th>ct_dst_sport_ltm</th>\n",
       "      <th>ct_dst_src_ltm</th>\n",
       "      <th>ct_src_ltm</th>\n",
       "      <th>ct_srv_dst</th>\n",
       "      <th>state_CON</th>\n",
       "      <th>state_INT</th>\n",
       "      <th>label</th>\n",
       "    </tr>\n",
       "  </thead>\n",
       "  <tbody>\n",
       "    <tr>\n",
       "      <th>0</th>\n",
       "      <td>0.000014</td>\n",
       "      <td>0.138393</td>\n",
       "      <td>0.000001</td>\n",
       "      <td>0.000150</td>\n",
       "      <td>0.000000</td>\n",
       "      <td>0.166667</td>\n",
       "      <td>0.02</td>\n",
       "      <td>0.00</td>\n",
       "      <td>0.000000</td>\n",
       "      <td>0.039216</td>\n",
       "      <td>0.016949</td>\n",
       "      <td>0.000000</td>\n",
       "      <td>0.0</td>\n",
       "      <td>0.0</td>\n",
       "      <td>1</td>\n",
       "    </tr>\n",
       "    <tr>\n",
       "      <th>1</th>\n",
       "      <td>0.000043</td>\n",
       "      <td>0.138393</td>\n",
       "      <td>0.000092</td>\n",
       "      <td>0.000364</td>\n",
       "      <td>0.019608</td>\n",
       "      <td>0.166667</td>\n",
       "      <td>0.00</td>\n",
       "      <td>0.00</td>\n",
       "      <td>0.000000</td>\n",
       "      <td>0.019608</td>\n",
       "      <td>0.000000</td>\n",
       "      <td>0.000000</td>\n",
       "      <td>0.0</td>\n",
       "      <td>0.0</td>\n",
       "      <td>1</td>\n",
       "    </tr>\n",
       "    <tr>\n",
       "      <th>2</th>\n",
       "      <td>0.500000</td>\n",
       "      <td>0.995536</td>\n",
       "      <td>0.119792</td>\n",
       "      <td>0.000000</td>\n",
       "      <td>0.000000</td>\n",
       "      <td>0.333333</td>\n",
       "      <td>0.00</td>\n",
       "      <td>0.00</td>\n",
       "      <td>0.000000</td>\n",
       "      <td>0.058824</td>\n",
       "      <td>0.016949</td>\n",
       "      <td>0.000000</td>\n",
       "      <td>0.0</td>\n",
       "      <td>1.0</td>\n",
       "      <td>1</td>\n",
       "    </tr>\n",
       "    <tr>\n",
       "      <th>3</th>\n",
       "      <td>0.000043</td>\n",
       "      <td>0.138393</td>\n",
       "      <td>0.000007</td>\n",
       "      <td>0.000869</td>\n",
       "      <td>0.039216</td>\n",
       "      <td>0.166667</td>\n",
       "      <td>0.00</td>\n",
       "      <td>0.00</td>\n",
       "      <td>0.000000</td>\n",
       "      <td>0.019608</td>\n",
       "      <td>0.000000</td>\n",
       "      <td>0.039216</td>\n",
       "      <td>0.0</td>\n",
       "      <td>0.0</td>\n",
       "      <td>1</td>\n",
       "    </tr>\n",
       "    <tr>\n",
       "      <th>4</th>\n",
       "      <td>0.000044</td>\n",
       "      <td>0.995536</td>\n",
       "      <td>0.000009</td>\n",
       "      <td>0.000236</td>\n",
       "      <td>0.098039</td>\n",
       "      <td>0.166667</td>\n",
       "      <td>0.00</td>\n",
       "      <td>0.00</td>\n",
       "      <td>0.000000</td>\n",
       "      <td>0.000000</td>\n",
       "      <td>0.016949</td>\n",
       "      <td>0.039216</td>\n",
       "      <td>0.0</td>\n",
       "      <td>0.0</td>\n",
       "      <td>1</td>\n",
       "    </tr>\n",
       "    <tr>\n",
       "      <th>...</th>\n",
       "      <td>...</td>\n",
       "      <td>...</td>\n",
       "      <td>...</td>\n",
       "      <td>...</td>\n",
       "      <td>...</td>\n",
       "      <td>...</td>\n",
       "      <td>...</td>\n",
       "      <td>...</td>\n",
       "      <td>...</td>\n",
       "      <td>...</td>\n",
       "      <td>...</td>\n",
       "      <td>...</td>\n",
       "      <td>...</td>\n",
       "      <td>...</td>\n",
       "      <td>...</td>\n",
       "    </tr>\n",
       "    <tr>\n",
       "      <th>81168</th>\n",
       "      <td>0.166667</td>\n",
       "      <td>0.995536</td>\n",
       "      <td>0.032986</td>\n",
       "      <td>0.000000</td>\n",
       "      <td>0.862745</td>\n",
       "      <td>0.333333</td>\n",
       "      <td>0.64</td>\n",
       "      <td>0.64</td>\n",
       "      <td>0.533333</td>\n",
       "      <td>0.862745</td>\n",
       "      <td>0.542373</td>\n",
       "      <td>0.862745</td>\n",
       "      <td>0.0</td>\n",
       "      <td>1.0</td>\n",
       "      <td>0</td>\n",
       "    </tr>\n",
       "    <tr>\n",
       "      <th>81169</th>\n",
       "      <td>0.111111</td>\n",
       "      <td>0.995536</td>\n",
       "      <td>0.021991</td>\n",
       "      <td>0.000000</td>\n",
       "      <td>0.450980</td>\n",
       "      <td>0.333333</td>\n",
       "      <td>0.46</td>\n",
       "      <td>0.46</td>\n",
       "      <td>0.400000</td>\n",
       "      <td>0.450980</td>\n",
       "      <td>0.389831</td>\n",
       "      <td>0.450980</td>\n",
       "      <td>0.0</td>\n",
       "      <td>1.0</td>\n",
       "      <td>0</td>\n",
       "    </tr>\n",
       "    <tr>\n",
       "      <th>81170</th>\n",
       "      <td>0.111111</td>\n",
       "      <td>0.995536</td>\n",
       "      <td>0.021991</td>\n",
       "      <td>0.000000</td>\n",
       "      <td>0.215686</td>\n",
       "      <td>0.333333</td>\n",
       "      <td>0.04</td>\n",
       "      <td>0.04</td>\n",
       "      <td>0.066667</td>\n",
       "      <td>0.235294</td>\n",
       "      <td>0.033898</td>\n",
       "      <td>0.215686</td>\n",
       "      <td>0.0</td>\n",
       "      <td>1.0</td>\n",
       "      <td>0</td>\n",
       "    </tr>\n",
       "    <tr>\n",
       "      <th>81171</th>\n",
       "      <td>0.111111</td>\n",
       "      <td>0.995536</td>\n",
       "      <td>0.021991</td>\n",
       "      <td>0.000000</td>\n",
       "      <td>0.568627</td>\n",
       "      <td>0.333333</td>\n",
       "      <td>0.58</td>\n",
       "      <td>0.58</td>\n",
       "      <td>0.433333</td>\n",
       "      <td>0.568627</td>\n",
       "      <td>0.491525</td>\n",
       "      <td>0.568627</td>\n",
       "      <td>0.0</td>\n",
       "      <td>1.0</td>\n",
       "      <td>0</td>\n",
       "    </tr>\n",
       "    <tr>\n",
       "      <th>81172</th>\n",
       "      <td>0.111111</td>\n",
       "      <td>0.995536</td>\n",
       "      <td>0.021991</td>\n",
       "      <td>0.000000</td>\n",
       "      <td>0.568627</td>\n",
       "      <td>0.333333</td>\n",
       "      <td>0.58</td>\n",
       "      <td>0.58</td>\n",
       "      <td>0.500000</td>\n",
       "      <td>0.568627</td>\n",
       "      <td>0.491525</td>\n",
       "      <td>0.568627</td>\n",
       "      <td>0.0</td>\n",
       "      <td>1.0</td>\n",
       "      <td>0</td>\n",
       "    </tr>\n",
       "  </tbody>\n",
       "</table>\n",
       "<p>81173 rows × 15 columns</p>\n",
       "</div>"
      ],
      "text/plain": [
       "           rate      sttl     sload     dload  ct_srv_src  ct_state_ttl  \\\n",
       "0      0.000014  0.138393  0.000001  0.000150    0.000000      0.166667   \n",
       "1      0.000043  0.138393  0.000092  0.000364    0.019608      0.166667   \n",
       "2      0.500000  0.995536  0.119792  0.000000    0.000000      0.333333   \n",
       "3      0.000043  0.138393  0.000007  0.000869    0.039216      0.166667   \n",
       "4      0.000044  0.995536  0.000009  0.000236    0.098039      0.166667   \n",
       "...         ...       ...       ...       ...         ...           ...   \n",
       "81168  0.166667  0.995536  0.032986  0.000000    0.862745      0.333333   \n",
       "81169  0.111111  0.995536  0.021991  0.000000    0.450980      0.333333   \n",
       "81170  0.111111  0.995536  0.021991  0.000000    0.215686      0.333333   \n",
       "81171  0.111111  0.995536  0.021991  0.000000    0.568627      0.333333   \n",
       "81172  0.111111  0.995536  0.021991  0.000000    0.568627      0.333333   \n",
       "\n",
       "       ct_dst_ltm  ct_src_dport_ltm  ct_dst_sport_ltm  ct_dst_src_ltm  \\\n",
       "0            0.02              0.00          0.000000        0.039216   \n",
       "1            0.00              0.00          0.000000        0.019608   \n",
       "2            0.00              0.00          0.000000        0.058824   \n",
       "3            0.00              0.00          0.000000        0.019608   \n",
       "4            0.00              0.00          0.000000        0.000000   \n",
       "...           ...               ...               ...             ...   \n",
       "81168        0.64              0.64          0.533333        0.862745   \n",
       "81169        0.46              0.46          0.400000        0.450980   \n",
       "81170        0.04              0.04          0.066667        0.235294   \n",
       "81171        0.58              0.58          0.433333        0.568627   \n",
       "81172        0.58              0.58          0.500000        0.568627   \n",
       "\n",
       "       ct_src_ltm  ct_srv_dst  state_CON  state_INT  label  \n",
       "0        0.016949    0.000000        0.0        0.0      1  \n",
       "1        0.000000    0.000000        0.0        0.0      1  \n",
       "2        0.016949    0.000000        0.0        1.0      1  \n",
       "3        0.000000    0.039216        0.0        0.0      1  \n",
       "4        0.016949    0.039216        0.0        0.0      1  \n",
       "...           ...         ...        ...        ...    ...  \n",
       "81168    0.542373    0.862745        0.0        1.0      0  \n",
       "81169    0.389831    0.450980        0.0        1.0      0  \n",
       "81170    0.033898    0.215686        0.0        1.0      0  \n",
       "81171    0.491525    0.568627        0.0        1.0      0  \n",
       "81172    0.491525    0.568627        0.0        1.0      0  \n",
       "\n",
       "[81173 rows x 15 columns]"
      ]
     },
     "execution_count": 4,
     "metadata": {},
     "output_type": "execute_result"
    }
   ],
   "source": [
    "binary_data"
   ]
  },
  {
   "cell_type": "code",
   "execution_count": 5,
   "metadata": {},
   "outputs": [],
   "source": [
    "X = binary_data.iloc[:,:-1]\n",
    "Y = binary_data.iloc[:,-1]"
   ]
  },
  {
   "cell_type": "code",
   "execution_count": 6,
   "metadata": {},
   "outputs": [],
   "source": [
    "X_train,X_test,y_train,y_test = train_test_split(X,Y,test_size=0.30, random_state=10)"
   ]
  },
  {
   "cell_type": "code",
   "execution_count": 9,
   "metadata": {},
   "outputs": [],
   "source": [
    "#Report Generator\n",
    "def show_report(model):\n",
    "    start = timeit.default_timer()\n",
    "    y_pred = model.predict(X_test)\n",
    "    stop = timeit.default_timer()\n",
    "    print(\"Execution time(s) - \", stop - start)\n",
    "    print(\"Mean Absolute Error - \" , mean_absolute_error(y_test, y_pred))\n",
    "    print(\"Mean Squared Error - \" , mean_squared_error(y_test, y_pred))\n",
    "    print(\"Root Mean Squared Error - \" , np.sqrt(mean_squared_error(y_test, y_pred)))\n",
    "    print(\"R2 Score - \" , explained_variance_score(y_test, y_pred)*100)\n",
    "    print(\"Accuracy - \",accuracy_score(y_test,y_pred)*100)\n",
    "    print(classification_report(y_true=y_test, y_pred=y_pred,target_names=['abnormal', 'normal']))"
   ]
  },
  {
   "cell_type": "code",
   "execution_count": 10,
   "metadata": {},
   "outputs": [],
   "source": [
    "#LR"
   ]
  },
  {
   "cell_type": "code",
   "execution_count": 11,
   "metadata": {},
   "outputs": [
    {
     "name": "stdout",
     "output_type": "stream",
     "text": [
      "Execution time(s) -  0.0026737999999966178\n",
      "Mean Absolute Error -  0.022339027595269383\n",
      "Mean Squared Error -  0.022339027595269383\n",
      "Root Mean Squared Error -  0.14946246216113726\n",
      "R2 Score -  87.98667244789078\n",
      "Accuracy -  97.76609724047306\n",
      "              precision    recall  f1-score   support\n",
      "\n",
      "    abnormal       0.97      1.00      0.99     18499\n",
      "      normal       0.99      0.91      0.95      5853\n",
      "\n",
      "    accuracy                           0.98     24352\n",
      "   macro avg       0.98      0.96      0.97     24352\n",
      "weighted avg       0.98      0.98      0.98     24352\n",
      "\n"
     ]
    }
   ],
   "source": [
    "lr_bin = LogisticRegression()\n",
    "lr_bin.fit(X_train, y_train)\n",
    "show_report(lr_bin)"
   ]
  },
  {
   "cell_type": "code",
   "execution_count": 12,
   "metadata": {},
   "outputs": [],
   "source": [
    "#NB"
   ]
  },
  {
   "cell_type": "code",
   "execution_count": 13,
   "metadata": {},
   "outputs": [
    {
     "name": "stdout",
     "output_type": "stream",
     "text": [
      "Execution time(s) -  0.011011499999995067\n",
      "Mean Absolute Error -  0.25451708278580815\n",
      "Mean Squared Error -  0.25451708278580815\n",
      "Root Mean Squared Error -  0.5044968610267145\n",
      "R2 Score -  -6.371435226198474\n",
      "Accuracy -  74.54829172141918\n",
      "              precision    recall  f1-score   support\n",
      "\n",
      "    abnormal       0.99      0.67      0.80     18499\n",
      "      normal       0.49      0.98      0.65      5853\n",
      "\n",
      "    accuracy                           0.75     24352\n",
      "   macro avg       0.74      0.83      0.72     24352\n",
      "weighted avg       0.87      0.75      0.76     24352\n",
      "\n"
     ]
    }
   ],
   "source": [
    "gnb = GaussianNB()\n",
    "gnb.fit(X_train,y_train)\n",
    "show_report(gnb)"
   ]
  },
  {
   "cell_type": "code",
   "execution_count": 14,
   "metadata": {},
   "outputs": [],
   "source": [
    "#knn"
   ]
  },
  {
   "cell_type": "code",
   "execution_count": 15,
   "metadata": {},
   "outputs": [
    {
     "name": "stdout",
     "output_type": "stream",
     "text": [
      "Execution time(s) -  4.270569200000011\n",
      "Mean Absolute Error -  0.017986202365308804\n",
      "Mean Squared Error -  0.017986202365308804\n",
      "Root Mean Squared Error -  0.1341126480437576\n",
      "R2 Score -  90.16409446248298\n",
      "Accuracy -  98.20137976346912\n",
      "              precision    recall  f1-score   support\n",
      "\n",
      "    abnormal       0.98      0.99      0.99     18499\n",
      "      normal       0.97      0.95      0.96      5853\n",
      "\n",
      "    accuracy                           0.98     24352\n",
      "   macro avg       0.98      0.97      0.98     24352\n",
      "weighted avg       0.98      0.98      0.98     24352\n",
      "\n"
     ]
    }
   ],
   "source": [
    "knn=KNeighborsClassifier()\n",
    "knn.fit(X_train,y_train)\n",
    "show_report(knn)"
   ]
  },
  {
   "cell_type": "code",
   "execution_count": 16,
   "metadata": {},
   "outputs": [],
   "source": [
    "#dt"
   ]
  },
  {
   "cell_type": "code",
   "execution_count": 17,
   "metadata": {},
   "outputs": [
    {
     "name": "stdout",
     "output_type": "stream",
     "text": [
      "Execution time(s) -  0.0044401999999763575\n",
      "Mean Absolute Error -  0.019094940867279895\n",
      "Mean Squared Error -  0.019094940867279895\n",
      "Root Mean Squared Error -  0.13818444509886016\n",
      "R2 Score -  89.54204025250712\n",
      "Accuracy -  98.09050591327201\n",
      "              precision    recall  f1-score   support\n",
      "\n",
      "    abnormal       0.99      0.99      0.99     18499\n",
      "      normal       0.96      0.96      0.96      5853\n",
      "\n",
      "    accuracy                           0.98     24352\n",
      "   macro avg       0.97      0.97      0.97     24352\n",
      "weighted avg       0.98      0.98      0.98     24352\n",
      "\n"
     ]
    }
   ],
   "source": [
    "dt = DecisionTreeClassifier(criterion='entropy')\n",
    "dt.fit(X_train,y_train)\n",
    "show_report(dt)"
   ]
  },
  {
   "cell_type": "code",
   "execution_count": 18,
   "metadata": {},
   "outputs": [],
   "source": [
    "#RF"
   ]
  },
  {
   "cell_type": "code",
   "execution_count": 19,
   "metadata": {},
   "outputs": [
    {
     "name": "stdout",
     "output_type": "stream",
     "text": [
      "Execution time(s) -  0.046274700000026314\n",
      "Mean Absolute Error -  0.015070630749014454\n",
      "Mean Squared Error -  0.015070630749014454\n",
      "Root Mean Squared Error -  0.12276249732314203\n",
      "R2 Score -  91.76744025773642\n",
      "Accuracy -  98.49293692509855\n",
      "              precision    recall  f1-score   support\n",
      "\n",
      "    abnormal       0.99      0.99      0.99     18499\n",
      "      normal       0.98      0.96      0.97      5853\n",
      "\n",
      "    accuracy                           0.98     24352\n",
      "   macro avg       0.98      0.97      0.98     24352\n",
      "weighted avg       0.98      0.98      0.98     24352\n",
      "\n"
     ]
    }
   ],
   "source": [
    "rf = RandomForestClassifier(n_estimators=20,criterion='entropy')\n",
    "rf.fit(X_train,y_train)\n",
    "show_report(rf)"
   ]
  },
  {
   "cell_type": "code",
   "execution_count": 52,
   "metadata": {},
   "outputs": [
    {
     "data": {
      "text/plain": [
       "0.9843719757500976"
      ]
     },
     "execution_count": 52,
     "metadata": {},
     "output_type": "execute_result"
    }
   ],
   "source": [
    "cross_val_score(RandomForestClassifier(n_estimators=20,criterion='entropy'),X_train,y_train,cv=5).mean()"
   ]
  },
  {
   "cell_type": "code",
   "execution_count": 41,
   "metadata": {},
   "outputs": [],
   "source": [
    "#AdaBoost"
   ]
  },
  {
   "cell_type": "code",
   "execution_count": 20,
   "metadata": {},
   "outputs": [
    {
     "name": "stdout",
     "output_type": "stream",
     "text": [
      "Execution time(s) -  0.07368309999998246\n",
      "Mean Absolute Error -  0.01827365308804205\n",
      "Mean Squared Error -  0.01827365308804205\n",
      "Root Mean Squared Error -  0.13518007652032918\n",
      "R2 Score -  90.09394045865604\n",
      "Accuracy -  98.1726346911958\n",
      "              precision    recall  f1-score   support\n",
      "\n",
      "    abnormal       0.98      1.00      0.99     18499\n",
      "      normal       0.99      0.93      0.96      5853\n",
      "\n",
      "    accuracy                           0.98     24352\n",
      "   macro avg       0.98      0.97      0.97     24352\n",
      "weighted avg       0.98      0.98      0.98     24352\n",
      "\n"
     ]
    }
   ],
   "source": [
    "abt = AdaBoostClassifier(n_estimators=20)\n",
    "abt.fit(X_train,y_train)\n",
    "show_report(abt)"
   ]
  },
  {
   "cell_type": "code",
   "execution_count": 44,
   "metadata": {},
   "outputs": [],
   "source": [
    "#SVM"
   ]
  },
  {
   "cell_type": "code",
   "execution_count": 21,
   "metadata": {},
   "outputs": [
    {
     "name": "stdout",
     "output_type": "stream",
     "text": [
      "Execution time(s) -  0.7530074999999954\n",
      "Mean Absolute Error -  0.022092641261498028\n",
      "Mean Squared Error -  0.022092641261498028\n",
      "Root Mean Squared Error -  0.14863593529660998\n",
      "R2 Score -  88.12161816606985\n",
      "Accuracy -  97.7907358738502\n",
      "              precision    recall  f1-score   support\n",
      "\n",
      "    abnormal       0.97      1.00      0.99     18499\n",
      "      normal       1.00      0.91      0.95      5853\n",
      "\n",
      "    accuracy                           0.98     24352\n",
      "   macro avg       0.98      0.96      0.97     24352\n",
      "weighted avg       0.98      0.98      0.98     24352\n",
      "\n"
     ]
    }
   ],
   "source": [
    "svm_lr = SVC(kernel='linear') \n",
    "svm_lr.fit(X_train,y_train)\n",
    "show_report(svm_lr)"
   ]
  },
  {
   "cell_type": "code",
   "execution_count": 22,
   "metadata": {},
   "outputs": [
    {
     "name": "stdout",
     "output_type": "stream",
     "text": [
      "Execution time(s) -  1.5067887000000155\n",
      "Mean Absolute Error -  0.021271353482260183\n",
      "Mean Squared Error -  0.021271353482260183\n",
      "Root Mean Squared Error -  0.14584702082065365\n",
      "R2 Score -  88.59559431304356\n",
      "Accuracy -  97.87286465177398\n",
      "              precision    recall  f1-score   support\n",
      "\n",
      "    abnormal       0.97      1.00      0.99     18499\n",
      "      normal       1.00      0.91      0.95      5853\n",
      "\n",
      "    accuracy                           0.98     24352\n",
      "   macro avg       0.99      0.96      0.97     24352\n",
      "weighted avg       0.98      0.98      0.98     24352\n",
      "\n"
     ]
    }
   ],
   "source": [
    "svm_rbf = svm.SVC(kernel='rbf')\n",
    "svm_rbf.fit(X_train,y_train)\n",
    "show_report(svm_rbf)"
   ]
  },
  {
   "cell_type": "code",
   "execution_count": 23,
   "metadata": {},
   "outputs": [
    {
     "name": "stdout",
     "output_type": "stream",
     "text": [
      "Execution time(s) -  2.852911000000006\n",
      "Mean Absolute Error -  0.05576544021024967\n",
      "Mean Squared Error -  0.05576544021024967\n",
      "Root Mean Squared Error -  0.2361470732620874\n",
      "R2 Score -  69.89191754187847\n",
      "Accuracy -  94.42345597897503\n",
      "              precision    recall  f1-score   support\n",
      "\n",
      "    abnormal       0.95      0.98      0.96     18499\n",
      "      normal       0.93      0.83      0.88      5853\n",
      "\n",
      "    accuracy                           0.94     24352\n",
      "   macro avg       0.94      0.90      0.92     24352\n",
      "weighted avg       0.94      0.94      0.94     24352\n",
      "\n"
     ]
    }
   ],
   "source": [
    "svm_sg = svm.SVC(kernel='sigmoid')\n",
    "svm_sg.fit(X_train,y_train)\n",
    "show_report(svm_sg)"
   ]
  },
  {
   "cell_type": "code",
   "execution_count": null,
   "metadata": {},
   "outputs": [],
   "source": []
  }
 ],
 "metadata": {
  "kernelspec": {
   "display_name": "Python 3",
   "language": "python",
   "name": "python3"
  },
  "language_info": {
   "codemirror_mode": {
    "name": "ipython",
    "version": 3
   },
   "file_extension": ".py",
   "mimetype": "text/x-python",
   "name": "python",
   "nbconvert_exporter": "python",
   "pygments_lexer": "ipython3",
   "version": "3.8.5"
  }
 },
 "nbformat": 4,
 "nbformat_minor": 4
}
